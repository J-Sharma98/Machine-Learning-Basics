{
 "cells": [
  {
   "cell_type": "markdown",
   "id": "23b91b9e",
   "metadata": {},
   "source": [
    "# Importing Libraries"
   ]
  },
  {
   "cell_type": "code",
   "execution_count": 1,
   "id": "cd317bb3",
   "metadata": {},
   "outputs": [],
   "source": [
    "import os\n",
    "import numpy as np\n",
    "import pandas as pd\n",
    "import seaborn as sns\n",
    "import matplotlib.pyplot as plt"
   ]
  },
  {
   "cell_type": "code",
   "execution_count": null,
   "id": "f754f8af",
   "metadata": {},
   "outputs": [],
   "source": [
    "os.chdir(r'D:\\BML Munjal University\\Module 6\\Predictive Analytics')\n",
    "df = pd.read_excel('Ecomm.xlsx')\n",
    "df1 = pd.read_excel('Ecomm.xlsx')"
   ]
  },
  {
   "cell_type": "markdown",
   "id": "b7cdb8a8",
   "metadata": {},
   "source": [
    "# Exploratory Data Analysis"
   ]
  },
  {
   "cell_type": "code",
   "execution_count": null,
   "id": "316e1549",
   "metadata": {},
   "outputs": [],
   "source": [
    "## Check shape of data\n",
    "\n",
    "df.shape\n",
    "\n",
    "## The data contains 10,000 rows and 10 columns"
   ]
  },
  {
   "cell_type": "code",
   "execution_count": null,
   "id": "6ec739f8",
   "metadata": {},
   "outputs": [],
   "source": [
    "df.head(20)\n",
    "\n",
    "# session which are open are usually stayed. But some open sessions churned too."
   ]
  },
  {
   "cell_type": "code",
   "execution_count": null,
   "id": "e8adfcf2",
   "metadata": {},
   "outputs": [],
   "source": [
    "## Check data type of each column\n",
    "\n",
    "df.dtypes\n",
    "\n",
    "## Only churn status is a categorical variable. Else all are continuous variables."
   ]
  },
  {
   "cell_type": "code",
   "execution_count": null,
   "id": "9b3b5989",
   "metadata": {},
   "outputs": [],
   "source": [
    "## Checking for null values percentage\n",
    "\n",
    "df.isnull().sum() / df.shape[0] * 100\n",
    "\n",
    "## It canbe seen that there are no null variables in the dataset."
   ]
  },
  {
   "cell_type": "code",
   "execution_count": null,
   "id": "5281573f",
   "metadata": {},
   "outputs": [],
   "source": [
    "## Check for summary statistics\n",
    "pd.options.display.float_format = '{:.2f}'.format\n",
    "pd.set_option(\"display.precision\",2) # Changes the display of output by rounding it off to two digit places\n",
    "df.describe()\n",
    "\n",
    "## It can be seen that the maximum numbr of days which a customer is active is 55, however,\n",
    "## 75% of the customers are only active for only 24 days. "
   ]
  },
  {
   "cell_type": "code",
   "execution_count": null,
   "id": "60e46907",
   "metadata": {},
   "outputs": [],
   "source": [
    "# Converting session length seconds to minutes \n",
    "df['session_length_seconds'] = df['session_length_seconds']/60"
   ]
  },
  {
   "cell_type": "code",
   "execution_count": null,
   "id": "9d0bd1e6",
   "metadata": {},
   "outputs": [],
   "source": [
    "plt.rcParams['figure.figsize']=(15,10)\n",
    "df.hist(bins = 30)\n",
    "plt.show()"
   ]
  },
  {
   "cell_type": "code",
   "execution_count": null,
   "id": "1bc85667",
   "metadata": {},
   "outputs": [],
   "source": [
    "plt.figure(figsize=(10,7))\n",
    "sns.histplot(df['session_length_seconds'], bins = 20, kde = True)"
   ]
  },
  {
   "cell_type": "code",
   "execution_count": null,
   "id": "ba6d2c71",
   "metadata": {},
   "outputs": [],
   "source": [
    "plt.figure(figsize=(8,4))\n",
    "sns.boxplot(df['session_length_seconds'])"
   ]
  },
  {
   "cell_type": "code",
   "execution_count": null,
   "id": "0ead40d4",
   "metadata": {},
   "outputs": [],
   "source": [
    "plt.figure(figsize=(10,7))\n",
    "sns.histplot(df['session_count'], bins = 20, kde = True)"
   ]
  },
  {
   "cell_type": "code",
   "execution_count": null,
   "id": "5dbaf0b0",
   "metadata": {},
   "outputs": [],
   "source": [
    "plt.figure(figsize=(8,4))\n",
    "sns.boxplot(df['session_count'])"
   ]
  },
  {
   "cell_type": "code",
   "execution_count": null,
   "id": "2c704d37",
   "metadata": {},
   "outputs": [],
   "source": [
    "plt.figure(figsize=(10,7))\n",
    "sns.histplot(df['event_count'], bins = 20, kde = True)"
   ]
  },
  {
   "cell_type": "code",
   "execution_count": null,
   "id": "e6ccdd42",
   "metadata": {},
   "outputs": [],
   "source": [
    "plt.figure(figsize=(8,4))\n",
    "sns.boxplot(df['event_count'])"
   ]
  },
  {
   "cell_type": "code",
   "execution_count": null,
   "id": "d2a79c4a",
   "metadata": {},
   "outputs": [],
   "source": [
    "plt.figure(figsize=(10,7))\n",
    "sns.histplot(df['closed_session_event_count'], bins = 20, kde = True)"
   ]
  },
  {
   "cell_type": "code",
   "execution_count": null,
   "id": "7cc80315",
   "metadata": {},
   "outputs": [],
   "source": [
    "plt.figure(figsize=(8,4))\n",
    "sns.boxplot(df['closed_session_event_count'])"
   ]
  },
  {
   "cell_type": "code",
   "execution_count": null,
   "id": "df2760a6",
   "metadata": {},
   "outputs": [],
   "source": [
    "plt.figure(figsize=(10,7))\n",
    "sns.histplot(df['open_session_event_count'], bins = 20, kde = True)"
   ]
  },
  {
   "cell_type": "code",
   "execution_count": null,
   "id": "cbb7e7e3",
   "metadata": {},
   "outputs": [],
   "source": [
    "plt.figure(figsize=(8,4))\n",
    "sns.boxplot(df['open_session_event_count'])"
   ]
  },
  {
   "cell_type": "code",
   "execution_count": null,
   "id": "006cd12e",
   "metadata": {},
   "outputs": [],
   "source": [
    "plt.figure(figsize=(10,7))\n",
    "sns.histplot(df['quest_completed_event_count'], bins = 30, kde = True)"
   ]
  },
  {
   "cell_type": "code",
   "execution_count": null,
   "id": "8531ba52",
   "metadata": {},
   "outputs": [],
   "source": [
    "plt.figure(figsize=(8,4))\n",
    "sns.boxplot(df['quest_completed_event_count'])"
   ]
  },
  {
   "cell_type": "code",
   "execution_count": null,
   "id": "84b67945",
   "metadata": {},
   "outputs": [],
   "source": [
    "plt.figure(figsize=(10,7))\n",
    "sns.histplot(df['active_days'], bins = 20, kde = True)"
   ]
  },
  {
   "cell_type": "code",
   "execution_count": null,
   "id": "9654d504",
   "metadata": {},
   "outputs": [],
   "source": [
    "plt.figure(figsize=(8,4))\n",
    "sns.boxplot(df['active_days'])"
   ]
  },
  {
   "cell_type": "code",
   "execution_count": null,
   "id": "941b2ed4",
   "metadata": {},
   "outputs": [],
   "source": [
    "activemore48 = df.loc[df[\"active_days\"]>=48]\n",
    "activeless48 = df.loc[df[\"active_days\"]<48]"
   ]
  },
  {
   "cell_type": "code",
   "execution_count": null,
   "id": "5652637d",
   "metadata": {},
   "outputs": [],
   "source": [
    "plt.figure(figsize=(10,7))\n",
    "sns.histplot(activemore48['active_days'], bins = 20, kde = True)"
   ]
  },
  {
   "cell_type": "code",
   "execution_count": null,
   "id": "8e305ed8",
   "metadata": {},
   "outputs": [],
   "source": [
    "plt.figure(figsize=(10,7))\n",
    "sns.histplot(activeless48['active_days'], bins = 20, kde = True)"
   ]
  },
  {
   "cell_type": "code",
   "execution_count": null,
   "id": "ebdbffb3",
   "metadata": {},
   "outputs": [],
   "source": [
    "plt.figure(figsize=(10,7))\n",
    "sns.scatterplot(data=activeless48, x=\"active_days\", y=\"store_purchase_event_count\")"
   ]
  },
  {
   "cell_type": "code",
   "execution_count": null,
   "id": "59d21a27",
   "metadata": {},
   "outputs": [],
   "source": [
    "activecat = pd.DataFrame(activeless48['active_days'])\n",
    "activecatless = pd.DataFrame(activemore48['active_days'])"
   ]
  },
  {
   "cell_type": "code",
   "execution_count": null,
   "id": "15bfc6fc",
   "metadata": {},
   "outputs": [],
   "source": [
    "plt.figure(figsize=(20,7))\n",
    "sns.barplot(data=activeless48, x=\"active_days\", y=\"store_purchase_event_count\")"
   ]
  },
  {
   "cell_type": "code",
   "execution_count": null,
   "id": "f80090cf",
   "metadata": {},
   "outputs": [],
   "source": [
    "plt.figure(figsize=(20,7))\n",
    "sns.barplot(data=activemore48, x=\"active_days\", y=\"store_purchase_event_count\")"
   ]
  },
  {
   "cell_type": "code",
   "execution_count": null,
   "id": "fa8b88d5",
   "metadata": {},
   "outputs": [],
   "source": [
    "sns.boxplot(data=df.drop(df.columns[[0]], axis=1), orient=\"h\")"
   ]
  },
  {
   "cell_type": "code",
   "execution_count": null,
   "id": "cb44c953",
   "metadata": {},
   "outputs": [],
   "source": [
    "Q1 = np.percentile(df_combine['session_length_seconds'], 25, interpolation = 'midpoint') \n",
    "Q2 = np.percentile(df_combine['session_length_seconds'], 50, interpolation = 'midpoint') \n",
    "Q3 = np.percentile(df_combine['session_length_seconds'], 75, interpolation = 'midpoint') \n",
    "IQR = Q3 - Q1 \n",
    "low_lim1 = Q1 - 1.5 * IQR\n",
    "up_lim1 = Q3 + 1.5 * IQR\n",
    "print('low_limit is', low_lim1)\n",
    "print('up_limit is', up_lim1)\n",
    "outlier1 =[]\n",
    "for x in df_combine['session_length_seconds']:\n",
    "    if ((x> up_lim1) or (x<low_lim1)):\n",
    "         outlier1.append(x)\n",
    "print(' Number of outlier in the dataset is', len(outlier1))"
   ]
  },
  {
   "cell_type": "code",
   "execution_count": null,
   "id": "7ddb95f3",
   "metadata": {},
   "outputs": [],
   "source": [
    "Q1 = np.percentile(df_combine['session_count'], 25, interpolation = 'midpoint') \n",
    "Q2 = np.percentile(df_combine['session_count'], 50, interpolation = 'midpoint') \n",
    "Q3 = np.percentile(df_combine['session_count'], 75, interpolation = 'midpoint') \n",
    "IQR = Q3 - Q1 \n",
    "low_lim2 = Q1 - 1.5 * IQR\n",
    "up_lim2 = Q3 + 1.5 * IQR\n",
    "print('low_limit is', low_lim2)\n",
    "print('up_limit is', up_lim2)\n",
    "outlier2 =[]\n",
    "for x in df_combine['session_count']:\n",
    "    if ((x> up_lim2) or (x<low_lim2)):\n",
    "         outlier2.append(x)\n",
    "print(' Number of outlier in the dataset is', len(outlier2))"
   ]
  },
  {
   "cell_type": "code",
   "execution_count": null,
   "id": "a7019ee5",
   "metadata": {},
   "outputs": [],
   "source": [
    "Q1 = np.percentile(df_combine['active_days'], 25, interpolation = 'midpoint') \n",
    "Q2 = np.percentile(df_combine['active_days'], 50, interpolation = 'midpoint') \n",
    "Q3 = np.percentile(df_combine['active_days'], 75, interpolation = 'midpoint') \n",
    "IQR = Q3 - Q1 \n",
    "low_lim3 = Q1 - 1.5 * IQR\n",
    "up_lim3 = Q3 + 1.5 * IQR\n",
    "print('low_limit is', low_lim3)\n",
    "print('up_limit is', up_lim3)\n",
    "outlier3 =[]\n",
    "for x in df_combine['active_days']:\n",
    "    if ((x> up_lim3) or (x<low_lim3)):\n",
    "         outlier3.append(x)\n",
    "print(' Number of outlier in the dataset is', len(outlier3))"
   ]
  },
  {
   "cell_type": "code",
   "execution_count": null,
   "id": "16a5721c",
   "metadata": {},
   "outputs": [],
   "source": [
    "Q1 = np.percentile(df['closed_session_event_count'], 25, interpolation = 'midpoint') \n",
    "Q2 = np.percentile(df['closed_session_event_count'], 50, interpolation = 'midpoint') \n",
    "Q3 = np.percentile(df['closed_session_event_count'], 75, interpolation = 'midpoint') \n",
    "IQR = Q3 - Q1 \n",
    "low_lim4 = Q1 - 1.5 * IQR\n",
    "up_lim4 = Q3 + 1.5 * IQR\n",
    "print('low_limit is', low_lim4)\n",
    "print('up_limit is', up_lim4)\n",
    "outlier4 =[]\n",
    "for x in df['closed_session_event_count']:\n",
    "    if ((x> up_lim4) or (x<low_lim4)):\n",
    "         outlier4.append(x)\n",
    "print(' Number of outlier in the dataset is', len(outlier4))"
   ]
  },
  {
   "cell_type": "code",
   "execution_count": null,
   "id": "1c929b36",
   "metadata": {},
   "outputs": [],
   "source": [
    "Q1 = np.percentile(df_combine['event_count'], 25, interpolation = 'midpoint') \n",
    "Q2 = np.percentile(df_combine['event_count'], 50, interpolation = 'midpoint') \n",
    "Q3 = np.percentile(df_combine['event_count'], 75, interpolation = 'midpoint') \n",
    "IQR = Q3 - Q1 \n",
    "low_lim5 = Q1 - 1.5 * IQR\n",
    "up_lim5 = Q3 + 1.5 * IQR\n",
    "print('low_limit is', low_lim5)\n",
    "print('up_limit is', up_lim5)\n",
    "outlier5 =[]\n",
    "for x in df_combine['event_count']:\n",
    "    if ((x> up_lim5) or (x<low_lim5)):\n",
    "         outlier5.append(x)\n",
    "print(' Number of outlier in the dataset is', len(outlier5))"
   ]
  },
  {
   "cell_type": "code",
   "execution_count": null,
   "id": "33fc2b03",
   "metadata": {},
   "outputs": [],
   "source": [
    "Q1 = np.percentile(df_combine['open_session_event_count'], 25, interpolation = 'midpoint') \n",
    "Q2 = np.percentile(df_combine['open_session_event_count'], 50, interpolation = 'midpoint') \n",
    "Q3 = np.percentile(df_combine['open_session_event_count'], 75, interpolation = 'midpoint') \n",
    "IQR = Q3 - Q1 \n",
    "low_lim6 = Q1 - 1.5 * IQR\n",
    "up_lim6 = Q3 + 1.5 * IQR\n",
    "print('low_limit is', low_lim6)\n",
    "print('up_limit is', up_lim6)\n",
    "outlier6 =[]\n",
    "for x in df_combine['open_session_event_count']:\n",
    "    if ((x> up_lim6) or (x<low_lim6)):\n",
    "         outlier6.append(x)\n",
    "print(' Number of outlier in the dataset is', len(outlier6))"
   ]
  },
  {
   "cell_type": "code",
   "execution_count": null,
   "id": "8716be26",
   "metadata": {},
   "outputs": [],
   "source": [
    "Q1 = np.percentile(df_combine['quest_completed_event_count'], 25, interpolation = 'midpoint') \n",
    "Q2 = np.percentile(df_combine['quest_completed_event_count'], 50, interpolation = 'midpoint') \n",
    "Q3 = np.percentile(df_combine['quest_completed_event_count'], 75, interpolation = 'midpoint') \n",
    "IQR = Q3 - Q1 \n",
    "low_lim7 = Q1 - 1.5 * IQR\n",
    "up_lim7 = Q3 + 1.5 * IQR\n",
    "print('low_limit is', low_lim7)\n",
    "print('up_limit is', up_lim7)\n",
    "outlier7 =[]\n",
    "for x in df_combine['quest_completed_event_count']:\n",
    "    if ((x> up_lim7) or (x<low_lim7)):\n",
    "         outlier7.append(x)\n",
    "print(' Number of outlier in the dataset is', len(outlier7))"
   ]
  },
  {
   "cell_type": "code",
   "execution_count": null,
   "id": "34830b22",
   "metadata": {},
   "outputs": [],
   "source": [
    "Q1 = np.percentile(df_combine['store_purchase_event_count'], 25, interpolation = 'midpoint') \n",
    "Q2 = np.percentile(df_combine['store_purchase_event_count'], 50, interpolation = 'midpoint') \n",
    "Q3 = np.percentile(df_combine['store_purchase_event_count'], 75, interpolation = 'midpoint') \n",
    "IQR = Q3 - Q1 \n",
    "low_lim8 = Q1 - 1.5 * IQR\n",
    "up_lim8 = Q3 + 1.5 * IQR\n",
    "print('low_limit is', low_lim8)\n",
    "print('up_limit is', up_lim8)\n",
    "outlier8 =[]\n",
    "for x in df_combine['store_purchase_event_count']:\n",
    "    if ((x> up_lim8) or (x<low_lim8)):\n",
    "         outlier8.append(x)\n",
    "print(' Number of outlier in the dataset is', len(outlier8))"
   ]
  },
  {
   "cell_type": "code",
   "execution_count": null,
   "id": "abed61ff",
   "metadata": {},
   "outputs": [],
   "source": [
    "total_outliers = int(len(outlier1)) + int(len(outlier2)) + int(len(outlier3)) + int(len(outlier4)) + int(len(outlier5)) + int(len(outlier6)) + int(len(outlier7)) + int(len(outlier8)) \n",
    "print(total_outliers)"
   ]
  },
  {
   "cell_type": "code",
   "execution_count": null,
   "id": "096b9071",
   "metadata": {},
   "outputs": [],
   "source": [
    "sns.pairplot(df,hue ='churn_status')\n",
    "plt.show()"
   ]
  },
  {
   "cell_type": "code",
   "execution_count": null,
   "id": "2dab3d93",
   "metadata": {},
   "outputs": [],
   "source": [
    "df.loc[df[\"active_days\"]>47, \"churn_status\"].value_counts()\n",
    "# People who stay active above 48 days and above tend to stay on the website and not churn"
   ]
  },
  {
   "cell_type": "code",
   "execution_count": null,
   "id": "30a20894",
   "metadata": {},
   "outputs": [],
   "source": [
    "df.loc[df[\"session_length_seconds\"]>=168, \"churn_status\"].value_counts()\n",
    "# People who have a session length of greater than or equal to 168 tend to stay on website\n",
    "# and not churn"
   ]
  },
  {
   "cell_type": "code",
   "execution_count": null,
   "id": "f7def13e",
   "metadata": {},
   "outputs": [],
   "source": [
    "plt.figure(figsize = (5,2))\n",
    "#sns.boxplot?\n",
    "sns.boxplot(x = df.active_days  , y = df.churn_status,orient=\"h\")"
   ]
  },
  {
   "cell_type": "code",
   "execution_count": null,
   "id": "c9047ce0",
   "metadata": {},
   "outputs": [],
   "source": [
    "plt.figure(figsize = (5,2))\n",
    "#sns.boxplot?\n",
    "sns.boxplot(x = df.store_purchase_event_count  , y = df.churn_status,orient=\"h\")"
   ]
  },
  {
   "cell_type": "code",
   "execution_count": null,
   "id": "bebc8a65",
   "metadata": {},
   "outputs": [],
   "source": [
    "corrMatrix = df.corr()"
   ]
  },
  {
   "cell_type": "code",
   "execution_count": null,
   "id": "b4a27954",
   "metadata": {},
   "outputs": [],
   "source": [
    "plt.figure(figsize = (15,10))\n",
    "sns.heatmap(corrMatrix, annot = True, cmap= 'coolwarm')"
   ]
  },
  {
   "cell_type": "code",
   "execution_count": null,
   "id": "5329dd1a",
   "metadata": {},
   "outputs": [],
   "source": [
    "fig, ((ax1, ax2),(ax3,ax4),(ax5,ax6)) = plt.subplots(nrows=3, ncols=2, figsize=(20,20))\n",
    "sns.regplot(x =df['event_count'], y =df['store_purchase_event_count'], scatter=True, ax=ax1)\n",
    "sns.regplot(x =df['session_count'], y =df['store_purchase_event_count'], scatter=True,ax=ax2)\n",
    "sns.regplot(x =df['closed_session_event_count'], y =df['store_purchase_event_count'], scatter=True, ax=ax3)\n",
    "sns.regplot(x =df['open_session_event_count'], y =df['store_purchase_event_count'], scatter=True,ax=ax4)\n",
    "sns.regplot(x =df['session_length_seconds'], y =df['store_purchase_event_count'], scatter=True,ax=ax5)\n",
    "sns.regplot(x =df['quest_completed_event_count'], y =df['store_purchase_event_count'], scatter=True,ax=ax6)"
   ]
  },
  {
   "cell_type": "code",
   "execution_count": null,
   "id": "0bed2522",
   "metadata": {},
   "outputs": [],
   "source": [
    "## Subsetting data into churned and stayed dataset\n",
    "\n",
    "df_churn = df.loc[df['churn_status'] == \"Churned\"]\n",
    "df_stay = df.loc[df['churn_status'] == \"Stayed\"]"
   ]
  },
  {
   "cell_type": "code",
   "execution_count": null,
   "id": "5401cf7a",
   "metadata": {},
   "outputs": [],
   "source": [
    "df_churn.describe()"
   ]
  },
  {
   "cell_type": "code",
   "execution_count": null,
   "id": "fb56cde0",
   "metadata": {},
   "outputs": [],
   "source": [
    "df_stay.describe()"
   ]
  },
  {
   "cell_type": "code",
   "execution_count": null,
   "id": "b10ab4ac",
   "metadata": {},
   "outputs": [],
   "source": [
    "df_cat = df.select_dtypes(include = \"object\")\n",
    "df_num = df.select_dtypes(exclude = \"object\")\n"
   ]
  },
  {
   "cell_type": "code",
   "execution_count": null,
   "id": "63089e5a",
   "metadata": {},
   "outputs": [],
   "source": [
    "for column in df_num:\n",
    "    df_num[column] = (df_num[column] -\n",
    "                           df_num[column].mean()) / df_num[column].std()    "
   ]
  },
  {
   "cell_type": "code",
   "execution_count": null,
   "id": "d89a03f0",
   "metadata": {},
   "outputs": [],
   "source": [
    "df_combine = pd.concat([df_cat,df_num], axis = 1)"
   ]
  },
  {
   "cell_type": "code",
   "execution_count": null,
   "id": "b0a5cc79",
   "metadata": {},
   "outputs": [],
   "source": [
    "df.groupby([\"churn_status\"]).mean()"
   ]
  },
  {
   "cell_type": "code",
   "execution_count": null,
   "id": "03b50a7d",
   "metadata": {},
   "outputs": [],
   "source": [
    "min_val = df['store_purchase_event_count'].min()\n",
    "max_val = df['store_purchase_event_count'].max()"
   ]
  },
  {
   "cell_type": "code",
   "execution_count": null,
   "id": "a5e9bf1e",
   "metadata": {},
   "outputs": [],
   "source": [
    "labels = ['0-5','5-10','10-20','20-30','30-40','40-50','50-200','200-402']"
   ]
  },
  {
   "cell_type": "code",
   "execution_count": null,
   "id": "9ea9c837",
   "metadata": {},
   "outputs": [],
   "source": [
    "bins = [ 0, 5, 10, 20, 30, 40,50,200,402]\n",
    "df['bin_cut_manual'] = pd.cut(df['store_purchase_event_count'] , bins=bins, labels=labels, include_lowest=True)\n",
    "plt.hist(df['bin_cut_manual'], bins=7)\n",
    "plt.show()"
   ]
  },
  {
   "cell_type": "code",
   "execution_count": null,
   "id": "b19f6024",
   "metadata": {},
   "outputs": [],
   "source": [
    "## Create a cross tab of intervals and churn status\n",
    "bins = df['bin_cut_manual'].unique()\n",
    "bins = list(bins)\n",
    "type(bins)"
   ]
  },
  {
   "cell_type": "markdown",
   "id": "9cc90f3c",
   "metadata": {},
   "source": [
    "# Model without any treatments"
   ]
  },
  {
   "cell_type": "code",
   "execution_count": null,
   "id": "89731941",
   "metadata": {},
   "outputs": [],
   "source": [
    "x1 = df_combine.drop(df_combine.columns[[7]], axis=1)\n",
    "x1.info()\n",
    "y1 = df_combine['store_purchase_event_count']\n",
    "x1 = pd.concat([x1,pd.get_dummies(x1['churn_status'])] , axis = 1)\n",
    "x1.info()"
   ]
  },
  {
   "cell_type": "code",
   "execution_count": null,
   "id": "1693d7e3",
   "metadata": {},
   "outputs": [],
   "source": [
    "x1 = x1.drop(x1.columns[[0,9]], axis=1)\n",
    "x1.info()"
   ]
  },
  {
   "cell_type": "code",
   "execution_count": null,
   "id": "262b885b",
   "metadata": {},
   "outputs": [],
   "source": [
    "import statsmodels.api as sm\n",
    "model1 = sm.OLS(y1, x1).fit() ### Without a constant"
   ]
  },
  {
   "cell_type": "code",
   "execution_count": null,
   "id": "4ba65986",
   "metadata": {},
   "outputs": [],
   "source": [
    "model1.summary()"
   ]
  },
  {
   "cell_type": "markdown",
   "id": "103a040b",
   "metadata": {},
   "source": [
    "# Outlier Treatment"
   ]
  },
  {
   "cell_type": "code",
   "execution_count": null,
   "id": "6be0798d",
   "metadata": {},
   "outputs": [],
   "source": [
    "df_combine[\"session_length_seconds\"] = np.where(df_combine[\"session_length_seconds\"]> up_lim1, up_lim1,\n",
    "                        np.where(df_combine[\"session_length_seconds\"]< low_lim1, low_lim1,\n",
    "                        df_combine[\"session_length_seconds\"]))\n",
    "df_combine[\"session_count\"] = np.where(df_combine[\"session_count\"]> up_lim2, up_lim2,\n",
    "                        np.where(df_combine[\"session_count\"]< low_lim2, low_lim2,\n",
    "                        df_combine[\"session_count\"]))\n",
    "df_combine[\"active_days\"] = np.where(df_combine[\"active_days\"]> up_lim3, up_lim3,\n",
    "                        np.where(df_combine[\"active_days\"]< low_lim3, low_lim3,\n",
    "                        df_combine[\"active_days\"]))\n",
    "df_combine[\"closed_session_event_count\"] = np.where(df_combine[\"closed_session_event_count\"]> up_lim4, up_lim4,\n",
    "                        np.where(df_combine[\"closed_session_event_count\"]< low_lim4, low_lim4,\n",
    "                        df_combine[\"closed_session_event_count\"]))\n",
    "df_combine[\"event_count\"] = np.where(df_combine[\"event_count\"]> up_lim5, up_lim5,\n",
    "                        np.where(df_combine[\"event_count\"]< low_lim5, low_lim5,\n",
    "                        df_combine[\"event_count\"]))\n",
    "df_combine[\"open_session_event_count\"] = np.where(df_combine[\"open_session_event_count\"]> up_lim6, up_lim6,\n",
    "                        np.where(df_combine[\"open_session_event_count\"]< low_lim6, low_lim6,\n",
    "                        df_combine[\"open_session_event_count\"]))\n",
    "df_combine[\"quest_completed_event_count\"] = np.where(df_combine[\"quest_completed_event_count\"]> up_lim7, up_lim7,\n",
    "                        np.where(df_combine[\"quest_completed_event_count\"]< low_lim7, low_lim7,\n",
    "                        df_combine[\"quest_completed_event_count\"]))\n",
    "df_combine[\"store_purchase_event_count\"] = np.where(df_combine[\"store_purchase_event_count\"]> up_lim1, up_lim1,\n",
    "                        np.where(df_combine[\"store_purchase_event_count\"]< low_lim1, low_lim1,\n",
    "                        df_combine[\"store_purchase_event_count\"]))"
   ]
  },
  {
   "cell_type": "code",
   "execution_count": null,
   "id": "c231e9b7",
   "metadata": {},
   "outputs": [],
   "source": [
    "plt.figure(figsize=(8,4))\n",
    "sns.boxplot(df_combine['quest_completed_event_count'])"
   ]
  },
  {
   "cell_type": "code",
   "execution_count": null,
   "id": "82331465",
   "metadata": {},
   "outputs": [],
   "source": [
    "x2 = df_combine.drop(df_combine.columns[[7]], axis=1)\n",
    "x2.info()\n",
    "y2 = df_combine['store_purchase_event_count']\n",
    "x2 = pd.concat([x2,pd.get_dummies(x2['churn_status'])] , axis = 1)\n",
    "x2.info()"
   ]
  },
  {
   "cell_type": "code",
   "execution_count": null,
   "id": "47da089a",
   "metadata": {},
   "outputs": [],
   "source": [
    "x2 = x2.drop(x2.columns[[0,9]], axis=1)\n",
    "x2.info()"
   ]
  },
  {
   "cell_type": "code",
   "execution_count": null,
   "id": "5287fda4",
   "metadata": {},
   "outputs": [],
   "source": [
    "model2 = sm.OLS(y2, x2).fit() ### Without a constant\n",
    "model2.summary()"
   ]
  },
  {
   "cell_type": "markdown",
   "id": "fb2abf71",
   "metadata": {},
   "source": [
    "# VIF Treatment"
   ]
  },
  {
   "cell_type": "code",
   "execution_count": null,
   "id": "131f5f54",
   "metadata": {},
   "outputs": [],
   "source": [
    "X = sm.add_constant(x2)\n",
    "X.head()"
   ]
  },
  {
   "cell_type": "code",
   "execution_count": null,
   "id": "ca042710",
   "metadata": {},
   "outputs": [],
   "source": [
    "from statsmodels.stats.outliers_influence import variance_inflation_factor\n",
    "  \n",
    "# the independent variables set\n",
    "X1 = X[['session_length_seconds', 'session_count', 'event_count',\n",
    "       'closed_session_event_count','open_session_event_count','quest_completed_event_count',\n",
    "       'active_days',\"Churned\"]]\n",
    "  \n",
    "# VIF dataframe\n",
    "vif_data = pd.DataFrame()\n",
    "vif_data[\"feature\"] = X1.columns\n",
    "  \n",
    "# calculating VIF for each feature\n",
    "vif_data[\"VIF\"] = [variance_inflation_factor(X1.values, i)\n",
    "                          for i in range(len(X1.columns))]\n",
    "  \n",
    "print(vif_data)"
   ]
  },
  {
   "cell_type": "code",
   "execution_count": null,
   "id": "bfe8bb85",
   "metadata": {},
   "outputs": [],
   "source": [
    "# If we remove open session event count\n",
    "  \n",
    "# the independent variables set\n",
    "X2 = X1[['session_length_seconds', 'session_count', 'event_count',\n",
    "        'closed_session_event_count','quest_completed_event_count',\n",
    "       'active_days',\"Churned\"]]\n",
    "  \n",
    "# VIF dataframe\n",
    "vif_data = pd.DataFrame()\n",
    "vif_data[\"feature\"] = X2.columns\n",
    "  \n",
    "# calculating VIF for each feature\n",
    "vif_data[\"VIF\"] = [variance_inflation_factor(X2.values, i)\n",
    "                          for i in range(len(X2.columns))]\n",
    "  \n",
    "print(vif_data)"
   ]
  },
  {
   "cell_type": "code",
   "execution_count": null,
   "id": "109ceef7",
   "metadata": {},
   "outputs": [],
   "source": [
    "# If we event count\n",
    "\n",
    "# the independent variables set\n",
    "X3 = X2[['session_length_seconds', 'session_count',\n",
    "        'closed_session_event_count','quest_completed_event_count',\n",
    "       'active_days',\"Churned\"]]\n",
    "  \n",
    "# VIF dataframe\n",
    "vif_data = pd.DataFrame()\n",
    "vif_data[\"feature\"] = X3.columns\n",
    "  \n",
    "# calculating VIF for each feature\n",
    "vif_data[\"VIF\"] = [variance_inflation_factor(X3.values, i)\n",
    "                          for i in range(len(X3.columns))]\n",
    "  \n",
    "print(vif_data)"
   ]
  },
  {
   "cell_type": "code",
   "execution_count": null,
   "id": "649dadec",
   "metadata": {},
   "outputs": [],
   "source": [
    "# Removing session count\n",
    "  \n",
    "# the independent variables set\n",
    "X4 = X3[['session_length_seconds', 'closed_session_event_count','quest_completed_event_count',\n",
    "       'active_days',\"Churned\"]]\n",
    "  \n",
    "# VIF dataframe\n",
    "vif_data = pd.DataFrame()\n",
    "vif_data[\"feature\"] = X4.columns\n",
    "  \n",
    "# calculating VIF for each feature\n",
    "vif_data[\"VIF\"] = [variance_inflation_factor(X4.values, i)\n",
    "                          for i in range(len(X4.columns))]\n",
    "  \n",
    "print(vif_data)"
   ]
  },
  {
   "cell_type": "code",
   "execution_count": null,
   "id": "ec892966",
   "metadata": {},
   "outputs": [],
   "source": [
    "X4 = pd.concat([X4,df['store_purchase_event_count']], axis = 1)\n",
    "X4.info()"
   ]
  },
  {
   "cell_type": "code",
   "execution_count": null,
   "id": "63688e39",
   "metadata": {},
   "outputs": [],
   "source": [
    "from statsmodels.formula.api import ols\n",
    "lm = ols(\"store_purchase_event_count ~ session_length_seconds+closed_session_event_count+quest_completed_event_count+active_days+Churned\", data=X4).fit()\n",
    "print(lm.summary())"
   ]
  }
 ],
 "metadata": {
  "kernelspec": {
   "display_name": "Python 3 (ipykernel)",
   "language": "python",
   "name": "python3"
  },
  "language_info": {
   "codemirror_mode": {
    "name": "ipython",
    "version": 3
   },
   "file_extension": ".py",
   "mimetype": "text/x-python",
   "name": "python",
   "nbconvert_exporter": "python",
   "pygments_lexer": "ipython3",
   "version": "3.9.12"
  }
 },
 "nbformat": 4,
 "nbformat_minor": 5
}
