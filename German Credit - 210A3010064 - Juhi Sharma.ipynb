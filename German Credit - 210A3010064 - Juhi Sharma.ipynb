{
 "cells": [
  {
   "cell_type": "code",
   "execution_count": null,
   "id": "480f3e18",
   "metadata": {},
   "outputs": [],
   "source": [
    "import warnings\n",
    "warnings.filterwarnings('ignore')\n",
    "import numpy as np \n",
    "import pandas as pd \n",
    "import os\n",
    "import matplotlib.pyplot as plt\n",
    "import seaborn as sns\n",
    "get_ipython().run_line_magic('matplotlib', 'inline')"
   ]
  },
  {
   "cell_type": "code",
   "execution_count": null,
   "id": "93c198d8",
   "metadata": {},
   "outputs": [],
   "source": [
    "os.chdir(r'D:\\BML Munjal University\\Module 6\\Applied machine learning')\n",
    "# reading data\n",
    "df = pd.read_csv(\"germancredit.csv\")"
   ]
  },
  {
   "cell_type": "code",
   "execution_count": null,
   "id": "e742d645",
   "metadata": {},
   "outputs": [],
   "source": [
    "df.shape"
   ]
  },
  {
   "cell_type": "code",
   "execution_count": null,
   "id": "eb2d04d0",
   "metadata": {},
   "outputs": [],
   "source": [
    "df.info()"
   ]
  },
  {
   "cell_type": "code",
   "execution_count": null,
   "id": "d1a70e86",
   "metadata": {},
   "outputs": [],
   "source": [
    "df.describe()"
   ]
  },
  {
   "cell_type": "code",
   "execution_count": null,
   "id": "6783267c",
   "metadata": {},
   "outputs": [],
   "source": [
    "df.head()"
   ]
  },
  {
   "cell_type": "code",
   "execution_count": null,
   "id": "83ebd9a1",
   "metadata": {},
   "outputs": [],
   "source": [
    "df['Default'].value_counts().plot(kind='bar')"
   ]
  },
  {
   "cell_type": "markdown",
   "id": "3f8db695",
   "metadata": {},
   "source": [
    "We can see that the data is very imbalanced. This will affect the learning of the model. To improve the distribution, we can using SMOTE technique."
   ]
  },
  {
   "cell_type": "code",
   "execution_count": null,
   "id": "70307747",
   "metadata": {},
   "outputs": [],
   "source": [
    "df.Default.value_counts()"
   ]
  },
  {
   "cell_type": "code",
   "execution_count": null,
   "id": "1ea31c94",
   "metadata": {},
   "outputs": [],
   "source": [
    "plt.rcParams['figure.figsize']=(15,10)\n",
    "df.hist(bins = 30)\n",
    "plt.show()"
   ]
  },
  {
   "cell_type": "code",
   "execution_count": null,
   "id": "7a151a36",
   "metadata": {},
   "outputs": [],
   "source": [
    "df.isnull().sum()"
   ]
  },
  {
   "cell_type": "code",
   "execution_count": null,
   "id": "11361d20",
   "metadata": {},
   "outputs": [],
   "source": [
    "def hist(variable):\n",
    "    sns.histplot(data=df, x=variable, kde=True)\n",
    "\n",
    "def box(var):\n",
    "    sns.boxplot(x=df[var])"
   ]
  },
  {
   "cell_type": "code",
   "execution_count": null,
   "id": "af09602d",
   "metadata": {},
   "outputs": [],
   "source": [
    "hist(\"duration\")"
   ]
  },
  {
   "cell_type": "code",
   "execution_count": null,
   "id": "3bf9846b",
   "metadata": {},
   "outputs": [],
   "source": [
    "box(\"duration\")"
   ]
  },
  {
   "cell_type": "code",
   "execution_count": null,
   "id": "2aaa58c0",
   "metadata": {},
   "outputs": [],
   "source": [
    "hist(\"amount\")"
   ]
  },
  {
   "cell_type": "code",
   "execution_count": null,
   "id": "cdde77ba",
   "metadata": {},
   "outputs": [],
   "source": [
    "box(\"amount\")"
   ]
  },
  {
   "cell_type": "code",
   "execution_count": null,
   "id": "97f90dd2",
   "metadata": {},
   "outputs": [],
   "source": [
    "hist(\"installment\")"
   ]
  },
  {
   "cell_type": "code",
   "execution_count": null,
   "id": "d5cb8eb8",
   "metadata": {},
   "outputs": [],
   "source": [
    "box(\"installment\")"
   ]
  },
  {
   "cell_type": "code",
   "execution_count": null,
   "id": "a1301ebb",
   "metadata": {},
   "outputs": [],
   "source": [
    "hist(\"residence\")"
   ]
  },
  {
   "cell_type": "code",
   "execution_count": null,
   "id": "cbb64529",
   "metadata": {},
   "outputs": [],
   "source": [
    "box(\"residence\")"
   ]
  },
  {
   "cell_type": "code",
   "execution_count": null,
   "id": "88fdc9d4",
   "metadata": {},
   "outputs": [],
   "source": [
    "hist(\"age\")"
   ]
  },
  {
   "cell_type": "code",
   "execution_count": null,
   "id": "4fe85fab",
   "metadata": {},
   "outputs": [],
   "source": [
    "box(\"age\")"
   ]
  },
  {
   "cell_type": "code",
   "execution_count": null,
   "id": "57997e1c",
   "metadata": {},
   "outputs": [],
   "source": [
    "hist(\"liable\")"
   ]
  },
  {
   "cell_type": "code",
   "execution_count": null,
   "id": "f5f8813e",
   "metadata": {},
   "outputs": [],
   "source": [
    "box(\"liable\")"
   ]
  },
  {
   "cell_type": "code",
   "execution_count": null,
   "id": "444256b9",
   "metadata": {},
   "outputs": [],
   "source": [
    "plt.figure(figsize=(20,7))\n",
    "sns.barplot(data=df, x=\"history\", y=\"amount\")"
   ]
  },
  {
   "cell_type": "code",
   "execution_count": null,
   "id": "6fd5d1e1",
   "metadata": {},
   "outputs": [],
   "source": [
    "import seaborn as sns\n",
    "sns.set(style = 'whitegrid')\n",
    "sns.violinplot(x =\"purpose\",\n",
    "             y =\"amount\",data = df)\n",
    "sns.despine(left=True)"
   ]
  },
  {
   "cell_type": "code",
   "execution_count": null,
   "id": "a090f01a",
   "metadata": {},
   "outputs": [],
   "source": [
    "sns.set(style = 'whitegrid')\n",
    "sns.violinplot(x =\"status\",\n",
    "             y =\"liable\",\n",
    "             data = df)"
   ]
  },
  {
   "cell_type": "code",
   "execution_count": null,
   "id": "3d47cb38",
   "metadata": {},
   "outputs": [],
   "source": [
    "import squarify \n",
    "df1 = df.groupby('purpose').size().reset_index(name='counts')\n",
    "labels = df1.apply(lambda x: str(x[0]) + \"\\n (\" + str(x[1]) + \")\", axis=1)\n",
    "sizes = df1['counts'].values.tolist()\n",
    "colors = [plt.cm.Spectral(i/float(len(labels))) for i in range(len(labels))]\n",
    "\n",
    "# Draw Plot\n",
    "plt.figure(figsize=(12,8), dpi= 80)\n",
    "squarify.plot(sizes=sizes, label=labels, color=colors, alpha=.8)\n",
    "\n",
    "# Decorate\n",
    "plt.title('Treemap of Purpose')\n",
    "plt.axis('off')\n",
    "plt.show()"
   ]
  },
  {
   "cell_type": "markdown",
   "id": "eb1fd9e3",
   "metadata": {},
   "source": [
    "We can see that A47 (vacation) does not exist. It means that no one has taken credit for vacations."
   ]
  },
  {
   "cell_type": "code",
   "execution_count": null,
   "id": "2f2ebe5d",
   "metadata": {},
   "outputs": [],
   "source": [
    "df_numeric = df.select_dtypes(exclude = 'object')\n",
    "df_numeric.head()"
   ]
  },
  {
   "cell_type": "code",
   "execution_count": null,
   "id": "35b60905",
   "metadata": {},
   "outputs": [],
   "source": [
    "df_numeric = df_numeric.drop(['Default'],axis = 1)"
   ]
  },
  {
   "cell_type": "code",
   "execution_count": null,
   "id": "bb451dcb",
   "metadata": {},
   "outputs": [],
   "source": [
    "plt.figure(figsize=(11,12))\n",
    "sns.boxplot(data=df_numeric)"
   ]
  },
  {
   "cell_type": "code",
   "execution_count": null,
   "id": "fae937b5",
   "metadata": {},
   "outputs": [],
   "source": [
    "from sklearn.preprocessing import StandardScaler\n",
    "scaler = StandardScaler()\n",
    "df_numeric = scaler.fit_transform(df_numeric)"
   ]
  },
  {
   "cell_type": "code",
   "execution_count": null,
   "id": "0c74c2be",
   "metadata": {},
   "outputs": [],
   "source": [
    "plt.figure(figsize=(11,12))\n",
    "sns.boxplot(data=df_numeric)"
   ]
  },
  {
   "cell_type": "code",
   "execution_count": null,
   "id": "099f7a72",
   "metadata": {},
   "outputs": [],
   "source": [
    "df_numeric = pd.DataFrame(df_numeric)"
   ]
  },
  {
   "cell_type": "code",
   "execution_count": null,
   "id": "55327dae",
   "metadata": {},
   "outputs": [],
   "source": [
    "df_numeric.columns = ['duration','amount','installment','residence',\n",
    "                     'age','cards','liable']"
   ]
  },
  {
   "cell_type": "code",
   "execution_count": null,
   "id": "7ac38691",
   "metadata": {},
   "outputs": [],
   "source": [
    "df_numeric.columns"
   ]
  },
  {
   "cell_type": "code",
   "execution_count": null,
   "id": "91510734",
   "metadata": {},
   "outputs": [],
   "source": [
    "type(df_numeric)"
   ]
  },
  {
   "cell_type": "code",
   "execution_count": null,
   "id": "2292e64e",
   "metadata": {},
   "outputs": [],
   "source": [
    "Q1 = np.percentile(df_numeric['duration'], 25, interpolation = 'midpoint') \n",
    "Q2 = np.percentile(df_numeric['duration'], 50, interpolation = 'midpoint') \n",
    "Q3 = np.percentile(df_numeric['duration'], 75, interpolation = 'midpoint') \n",
    "IQR = Q3 - Q1 \n",
    "low_lim1 = Q1 - 1.5 * IQR\n",
    "up_lim1 = Q3 + 1.5 * IQR\n",
    "print('low_limit is', low_lim1)\n",
    "print('up_limit is', up_lim1)\n",
    "outlier =[]\n",
    "for x in df_numeric['duration']:\n",
    "    if ((x> up_lim1) or (x<low_lim1)):\n",
    "         outlier.append(x)\n",
    "print(' Number of outlier in duration is', len(outlier))\n",
    "\n",
    "Q1 = np.percentile(df_numeric['amount'], 25, interpolation = 'midpoint') \n",
    "Q2 = np.percentile(df_numeric['amount'], 50, interpolation = 'midpoint') \n",
    "Q3 = np.percentile(df_numeric['amount'], 75, interpolation = 'midpoint') \n",
    "IQR = Q3 - Q1 \n",
    "low_lim2 = Q1 - 1.5 * IQR\n",
    "up_lim2 = Q3 + 1.5 * IQR\n",
    "print('low_limit is', low_lim2)\n",
    "print('up_limit is', up_lim2)\n",
    "outlier =[]\n",
    "for x in df_numeric['amount']:\n",
    "    if ((x> up_lim2) or (x<low_lim2)):\n",
    "         outlier.append(x)\n",
    "print(' Number of outlier in amount is', len(outlier))\n",
    "\n",
    "Q1 = np.percentile(df_numeric['age'], 25, interpolation = 'midpoint') \n",
    "Q2 = np.percentile(df_numeric['age'], 50, interpolation = 'midpoint') \n",
    "Q3 = np.percentile(df_numeric['age'], 75, interpolation = 'midpoint') \n",
    "IQR = Q3 - Q1 \n",
    "low_lim3 = Q1 - 1.5 * IQR\n",
    "up_lim3 = Q3 + 1.5 * IQR\n",
    "print('low_limit is', low_lim3)\n",
    "print('up_limit is', up_lim3)\n",
    "outlier =[]\n",
    "for x in df_numeric['age']:\n",
    "    if ((x> up_lim3) or (x<low_lim3)):\n",
    "         outlier.append(x)\n",
    "print(' Number of outlier in age is', len(outlier))\n",
    "\n",
    "Q1 = np.percentile(df_numeric['cards'], 25, interpolation = 'midpoint') \n",
    "Q2 = np.percentile(df_numeric['cards'], 50, interpolation = 'midpoint') \n",
    "Q3 = np.percentile(df_numeric['cards'], 75, interpolation = 'midpoint') \n",
    "IQR = Q3 - Q1 \n",
    "low_lim4 = Q1 - 1.5 * IQR\n",
    "up_lim4 = Q3 + 1.5 * IQR\n",
    "print('low_limit is', low_lim1)\n",
    "print('up_limit is', up_lim1)\n",
    "outlier =[]\n",
    "for x in df_numeric['cards']:\n",
    "    if ((x> up_lim4) or (x<low_lim4)):\n",
    "         outlier.append(x)\n",
    "print(' Number of outlier in cards is', len(outlier))\n",
    "\n",
    "Q1 = np.percentile(df_numeric['liable'], 25, interpolation = 'midpoint') \n",
    "Q2 = np.percentile(df_numeric['liable'], 50, interpolation = 'midpoint') \n",
    "Q3 = np.percentile(df_numeric['liable'], 75, interpolation = 'midpoint') \n",
    "IQR = Q3 - Q1 \n",
    "low_lim5 = Q1 - 1.5 * IQR\n",
    "up_lim5 = Q3 + 1.5 * IQR\n",
    "print('low_limit is', low_lim5)\n",
    "print('up_limit is', up_lim5)\n",
    "outlier =[]\n",
    "for x in df_numeric['liable']:\n",
    "    if ((x> up_lim5) or (x<low_lim5)):\n",
    "         outlier.append(x)\n",
    "print(' Number of outlier in liable is', len(outlier))\n",
    "\n"
   ]
  },
  {
   "cell_type": "code",
   "execution_count": null,
   "id": "b97a5e75",
   "metadata": {},
   "outputs": [],
   "source": [
    "df_numeric[\"duration\"] = np.where(df_numeric[\"duration\"]> up_lim1, up_lim1,\n",
    "                        np.where(df_numeric[\"duration\"]< low_lim1, low_lim1,\n",
    "                        df_numeric[\"duration\"]))\n",
    "\n",
    "df_numeric[\"amount\"] = np.where(df_numeric[\"amount\"]> up_lim2, up_lim2,\n",
    "                        np.where(df_numeric[\"amount\"]< low_lim2, low_lim2,\n",
    "                        df_numeric[\"amount\"]))\n",
    "\n",
    "df_numeric[\"age\"] = np.where(df_numeric[\"age\"]> up_lim3, up_lim3,\n",
    "                        np.where(df_numeric[\"age\"]< low_lim3, low_lim3,\n",
    "                        df_numeric[\"age\"]))\n",
    "\n",
    "df_numeric[\"cards\"] = np.where(df_numeric[\"cards\"]> up_lim4, up_lim4,\n",
    "                        np.where(df_numeric[\"cards\"]< low_lim4, low_lim4,\n",
    "                        df_numeric[\"cards\"]))\n",
    "\n",
    "df_numeric[\"liable\"] = np.where(df_numeric[\"liable\"]> up_lim5, up_lim5,\n",
    "                        np.where(df_numeric[\"liable\"]< low_lim5, low_lim5,\n",
    "                        df_numeric[\"liable\"]))\n"
   ]
  },
  {
   "cell_type": "code",
   "execution_count": null,
   "id": "1f0e511c",
   "metadata": {},
   "outputs": [],
   "source": [
    "plt.figure(figsize=(11,12))\n",
    "sns.boxplot(data=df_numeric)"
   ]
  },
  {
   "cell_type": "code",
   "execution_count": null,
   "id": "e3ad80e6",
   "metadata": {},
   "outputs": [],
   "source": [
    "plt.figure(figsize=(20,20))\n",
    "sns.heatmap(df.corr(), linewidths=0.5, annot=True, fmt=\".2f\", cmap = 'viridis')"
   ]
  },
  {
   "cell_type": "markdown",
   "id": "212c6bf0",
   "metadata": {},
   "source": [
    "As the credit amount increases, the duration for which the amount is taken also increases. Therefore, they are highly correlated."
   ]
  },
  {
   "cell_type": "code",
   "execution_count": null,
   "id": "3593c79a",
   "metadata": {},
   "outputs": [],
   "source": [
    "df_cat_encoded = pd.get_dummies(df, columns=['checkingstatus1','history','purpose','savings','employ',\n",
    "                                            'status','others','property','otherplans','housing','job',\n",
    "                                            'tele','foreign'])"
   ]
  },
  {
   "cell_type": "code",
   "execution_count": null,
   "id": "bf6230f5",
   "metadata": {},
   "outputs": [],
   "source": [
    "df_numeric.head()"
   ]
  },
  {
   "cell_type": "code",
   "execution_count": null,
   "id": "e46a4658",
   "metadata": {},
   "outputs": [],
   "source": [
    "df_cat_encoded.columns"
   ]
  },
  {
   "cell_type": "code",
   "execution_count": null,
   "id": "892556ab",
   "metadata": {},
   "outputs": [],
   "source": [
    "df_cat_encoded = df_cat_encoded.drop(['Default', 'duration', 'amount', 'installment', 'residence', 'age',\n",
    "       'cards', 'liable'], axis = 1)"
   ]
  },
  {
   "cell_type": "code",
   "execution_count": null,
   "id": "18daaf1b",
   "metadata": {},
   "outputs": [],
   "source": [
    "df_cat_encoded.columns"
   ]
  },
  {
   "cell_type": "code",
   "execution_count": null,
   "id": "c14da705",
   "metadata": {},
   "outputs": [],
   "source": [
    "df_combine = pd.concat([df_cat_encoded,df_numeric], axis = 1)\n",
    "df_combine.head()\n",
    "#df_combine.columns"
   ]
  },
  {
   "cell_type": "markdown",
   "id": "915841c5",
   "metadata": {},
   "source": [
    "# Modelling"
   ]
  },
  {
   "cell_type": "markdown",
   "id": "66514954",
   "metadata": {},
   "source": [
    "## Using Logistic Regression"
   ]
  },
  {
   "cell_type": "code",
   "execution_count": null,
   "id": "033d3655",
   "metadata": {},
   "outputs": [],
   "source": [
    "X1 = df_combine\n",
    "y1 = df['Default']"
   ]
  },
  {
   "cell_type": "code",
   "execution_count": null,
   "id": "be016862",
   "metadata": {},
   "outputs": [],
   "source": [
    "X1.head()"
   ]
  },
  {
   "cell_type": "code",
   "execution_count": null,
   "id": "2c727d73",
   "metadata": {},
   "outputs": [],
   "source": [
    "y1.head()"
   ]
  },
  {
   "cell_type": "code",
   "execution_count": null,
   "id": "c40b615b",
   "metadata": {},
   "outputs": [],
   "source": [
    "from sklearn.model_selection import train_test_split\n",
    "X1_train, X1_test, y1_train, y1_test = train_test_split(X1,y1, test_size = 0.2, random_state = 0)"
   ]
  },
  {
   "cell_type": "code",
   "execution_count": null,
   "id": "1fbacb1c",
   "metadata": {},
   "outputs": [],
   "source": [
    "from sklearn.linear_model import LogisticRegression\n",
    "classifier_logreg1 = LogisticRegression(solver='liblinear', random_state=0)\n",
    "classifier_logreg1.fit(X1_train, y1_train)"
   ]
  },
  {
   "cell_type": "code",
   "execution_count": null,
   "id": "a46a75d8",
   "metadata": {},
   "outputs": [],
   "source": [
    "y_pred_logreg_proba1 = classifier_logreg1.predict_proba(X1_test)\n",
    "from sklearn.metrics import roc_curve\n",
    "fpr1, tpr1, thresholds = roc_curve(y1_test, y_pred_logreg_proba1[:,1])\n",
    "plt.figure(figsize=(6,4))\n",
    "plt.plot(fpr1,tpr1,'-g',linewidth=1)\n",
    "plt.plot([0,1], [0,1], 'k--' )\n",
    "plt.title('ROC curve for Logistic Regression Model')\n",
    "plt.xlabel(\"False Positive Rate\")\n",
    "plt.ylabel('True Positive Rate')\n",
    "plt.show()\n"
   ]
  },
  {
   "cell_type": "code",
   "execution_count": null,
   "id": "9fdc6c0e",
   "metadata": {},
   "outputs": [],
   "source": [
    "pd.DataFrame({\"fpr1\":fpr1, \"tpr1\":tpr1, \"threshold1\":thresholds})"
   ]
  },
  {
   "cell_type": "code",
   "execution_count": null,
   "id": "9a1d5bd7",
   "metadata": {},
   "outputs": [],
   "source": [
    "thresholds[np.argmax(tpr1 - fpr1)]"
   ]
  },
  {
   "cell_type": "code",
   "execution_count": null,
   "id": "466ba866",
   "metadata": {},
   "outputs": [],
   "source": [
    "pred_proba1 = y_pred_logreg_proba1[:,1]"
   ]
  },
  {
   "cell_type": "code",
   "execution_count": null,
   "id": "fa4b4ec2",
   "metadata": {},
   "outputs": [],
   "source": [
    "preds1 = np.where(pred_proba1>0.18, 1, 0)"
   ]
  },
  {
   "cell_type": "code",
   "execution_count": null,
   "id": "21587173",
   "metadata": {},
   "outputs": [],
   "source": [
    "from sklearn.metrics import confusion_matrix,accuracy_score\n",
    "cm1 = confusion_matrix(y1_test, preds1)\n",
    "s1 = sns.heatmap(cm1 ,annot=True ,fmt='d')\n",
    "s1.set(xlabel='Predicted', ylabel='Actual')\n",
    "print(\"Model accuracy for model 1:\",accuracy_score(y1_test, preds1))"
   ]
  },
  {
   "cell_type": "code",
   "execution_count": null,
   "id": "7bce9853",
   "metadata": {},
   "outputs": [],
   "source": [
    "from sklearn.metrics import classification_report\n",
    "print(classification_report(y1_test, preds1))"
   ]
  },
  {
   "cell_type": "markdown",
   "id": "93054401",
   "metadata": {},
   "source": [
    "## Using Decision Trees with depth 8"
   ]
  },
  {
   "cell_type": "code",
   "execution_count": null,
   "id": "68f53952",
   "metadata": {},
   "outputs": [],
   "source": [
    "from sklearn.tree import DecisionTreeClassifier\n",
    "# from sklearn.linear_model import LogisticRegression\n",
    "from sklearn.metrics import confusion_matrix, ConfusionMatrixDisplay"
   ]
  },
  {
   "cell_type": "code",
   "execution_count": null,
   "id": "6ebf4fc5",
   "metadata": {},
   "outputs": [],
   "source": [
    "classifier_dt1 = DecisionTreeClassifier(max_depth=8,random_state=0)\n",
    "classifier_dt1.fit(X1_train, y1_train)"
   ]
  },
  {
   "cell_type": "code",
   "execution_count": null,
   "id": "4dd23d3a",
   "metadata": {},
   "outputs": [],
   "source": [
    "# Get probabilities of records belonging to each class\n",
    "y_pred_logreg_proba_dt1 = classifier_dt1.predict_proba(X1_test)\n",
    "y_pred_logreg_proba_dt1"
   ]
  },
  {
   "cell_type": "code",
   "execution_count": null,
   "id": "db11947c",
   "metadata": {},
   "outputs": [],
   "source": [
    "from sklearn.metrics import roc_curve\n",
    "fpr_dt1, tpr_dt1, thresholds_dt1 = roc_curve(y1_test, y_pred_logreg_proba_dt1[:,1])\n",
    "plt.figure(figsize=(6,4))\n",
    "plt.plot(fpr_dt1,tpr_dt1,'-g',linewidth=1)\n",
    "plt.plot([0,1], [0,1], 'k--' )\n",
    "plt.title('ROC curve for Decision Tree Model')\n",
    "plt.xlabel(\"False Positive Rate\")\n",
    "plt.ylabel('True Positive Rate')\n",
    "plt.show()"
   ]
  },
  {
   "cell_type": "code",
   "execution_count": null,
   "id": "844e09b8",
   "metadata": {},
   "outputs": [],
   "source": [
    "pred_proba_dt1 = y_pred_logreg_proba_dt1[:,1]"
   ]
  },
  {
   "cell_type": "code",
   "execution_count": null,
   "id": "392f3b8b",
   "metadata": {},
   "outputs": [],
   "source": [
    "preds_dt1 = np.where(pred_proba_dt1>0.70, 1, 0)"
   ]
  },
  {
   "cell_type": "code",
   "execution_count": null,
   "id": "1cad7313",
   "metadata": {},
   "outputs": [],
   "source": [
    "cm_dt1 = confusion_matrix(y1_test, preds_dt1)\n",
    "ConfusionMatrixDisplay(confusion_matrix=cm_dt1).plot()\n",
    "print(\"Model accuracy of Decision Tree:\",accuracy_score(y1_test, preds_dt1))"
   ]
  },
  {
   "cell_type": "code",
   "execution_count": null,
   "id": "a5cb3380",
   "metadata": {},
   "outputs": [],
   "source": [
    "print(classification_report(y1_test, preds_dt1))"
   ]
  },
  {
   "cell_type": "markdown",
   "id": "7599a1f1",
   "metadata": {},
   "source": [
    "## Using Decision Trees with depth 6"
   ]
  },
  {
   "cell_type": "code",
   "execution_count": null,
   "id": "20a11647",
   "metadata": {},
   "outputs": [],
   "source": [
    "classifier_dt2 = DecisionTreeClassifier(max_depth=6,random_state=0)\n",
    "classifier_dt2.fit(X1_train, y1_train)"
   ]
  },
  {
   "cell_type": "code",
   "execution_count": null,
   "id": "1fb3434d",
   "metadata": {},
   "outputs": [],
   "source": [
    "# Get probabilities of records belonging to each class\n",
    "y_pred_logreg_proba_dt = classifier_dt2.predict_proba(X1_test)\n",
    "y_pred_logreg_proba_dt"
   ]
  },
  {
   "cell_type": "code",
   "execution_count": null,
   "id": "a82736b9",
   "metadata": {},
   "outputs": [],
   "source": [
    "from sklearn.metrics import roc_curve\n",
    "fpr_dt, tpr_dt, thresholds_dt = roc_curve(y1_test, y_pred_logreg_proba_dt[:,1])\n",
    "plt.figure(figsize=(6,4))\n",
    "plt.plot(fpr_dt,tpr_dt,'-g',linewidth=1)\n",
    "plt.plot([0,1], [0,1], 'k--' )\n",
    "plt.title('ROC curve for Decision Tree Model')\n",
    "plt.xlabel(\"False Positive Rate\")\n",
    "plt.ylabel('True Positive Rate')\n",
    "plt.show()"
   ]
  },
  {
   "cell_type": "code",
   "execution_count": null,
   "id": "991472f8",
   "metadata": {},
   "outputs": [],
   "source": [
    "pred_proba_dt = y_pred_logreg_proba_dt[:,1]"
   ]
  },
  {
   "cell_type": "code",
   "execution_count": null,
   "id": "ef8b183e",
   "metadata": {},
   "outputs": [],
   "source": [
    "preds_dt = np.where(pred_proba_dt>0.70, 1, 0)"
   ]
  },
  {
   "cell_type": "code",
   "execution_count": null,
   "id": "ca62b2c3",
   "metadata": {},
   "outputs": [],
   "source": [
    "cm_dt = confusion_matrix(y1_test, preds_dt)\n",
    "ConfusionMatrixDisplay(confusion_matrix=cm_dt).plot()\n",
    "print(\"Model accuracy of Decision Tree:\",accuracy_score(y1_test, preds_dt))"
   ]
  },
  {
   "cell_type": "code",
   "execution_count": null,
   "id": "1949e2ab",
   "metadata": {},
   "outputs": [],
   "source": [
    "print(classification_report(y1_test, preds_dt))"
   ]
  },
  {
   "cell_type": "markdown",
   "id": "f186c0aa",
   "metadata": {},
   "source": [
    "## Using Random Forest"
   ]
  },
  {
   "cell_type": "code",
   "execution_count": null,
   "id": "585df254",
   "metadata": {},
   "outputs": [],
   "source": [
    "from sklearn.ensemble import RandomForestClassifier"
   ]
  },
  {
   "cell_type": "code",
   "execution_count": null,
   "id": "f43ddf64",
   "metadata": {},
   "outputs": [],
   "source": [
    "classifier_rf = RandomForestClassifier(n_estimators= 20 ,max_depth=8, random_state=0)\n",
    "classifier_rf.fit(X1_train, y1_train)"
   ]
  },
  {
   "cell_type": "code",
   "execution_count": null,
   "id": "c202a7b5",
   "metadata": {},
   "outputs": [],
   "source": [
    "y_pred_logreg_proba_rf = classifier_rf.predict_proba(X1_test)\n",
    "from sklearn.metrics import roc_curve\n",
    "fpr_rf, tpr_rf, thresholds_rf = roc_curve(y1_test, y_pred_logreg_proba_rf[:,1])\n",
    "plt.figure(figsize=(6,4))\n",
    "plt.plot(fpr_rf,tpr_rf,'-g',linewidth=1)\n",
    "plt.plot([0,1], [0,1], 'k--' )\n",
    "plt.title('ROC curve for Random forest Model')\n",
    "plt.xlabel(\"False Positive Rate\")\n",
    "plt.ylabel('True Positive Rate')\n",
    "plt.show()"
   ]
  },
  {
   "cell_type": "code",
   "execution_count": null,
   "id": "70e49554",
   "metadata": {},
   "outputs": [],
   "source": [
    "pred_proba_rf = y_pred_logreg_proba_rf[:,1]"
   ]
  },
  {
   "cell_type": "code",
   "execution_count": null,
   "id": "f61930d1",
   "metadata": {},
   "outputs": [],
   "source": [
    "preds_rf = np.where(pred_proba_rf>0.70, 1, 0)"
   ]
  },
  {
   "cell_type": "code",
   "execution_count": null,
   "id": "f0a85ef8",
   "metadata": {},
   "outputs": [],
   "source": [
    "cm_rf = confusion_matrix(y1_test, preds_rf)\n",
    "ConfusionMatrixDisplay(confusion_matrix=cm_rf).plot()\n",
    "print(\"Model accuracy:\",accuracy_score(y1_test, preds_rf))"
   ]
  },
  {
   "cell_type": "code",
   "execution_count": null,
   "id": "c4499231",
   "metadata": {},
   "outputs": [],
   "source": [
    "print(classification_report(y1_test, preds_rf))"
   ]
  },
  {
   "cell_type": "markdown",
   "id": "c9d9c9d6",
   "metadata": {},
   "source": [
    "## Using Random Forest with 30 estimators and 12 depth "
   ]
  },
  {
   "cell_type": "code",
   "execution_count": null,
   "id": "6e6cd0bb",
   "metadata": {},
   "outputs": [],
   "source": [
    "classifier_rf = RandomForestClassifier(n_estimators= 30 ,max_depth=12, random_state=0)\n",
    "classifier_rf.fit(X1_train, y1_train)"
   ]
  },
  {
   "cell_type": "code",
   "execution_count": null,
   "id": "97577c33",
   "metadata": {},
   "outputs": [],
   "source": [
    "y_pred_logreg_proba_rf = classifier_rf.predict_proba(X1_test)\n",
    "from sklearn.metrics import roc_curve\n",
    "fpr_rf, tpr_rf, thresholds_rf = roc_curve(y1_test, y_pred_logreg_proba_rf[:,1])\n",
    "plt.figure(figsize=(6,4))\n",
    "plt.plot(fpr_rf,tpr_rf,'-g',linewidth=1)\n",
    "plt.plot([0,1], [0,1], 'k--' )\n",
    "plt.title('ROC curve for Random forest Model')\n",
    "plt.xlabel(\"False Positive Rate\")\n",
    "plt.ylabel('True Positive Rate')\n",
    "plt.show()"
   ]
  },
  {
   "cell_type": "code",
   "execution_count": null,
   "id": "f08e6206",
   "metadata": {},
   "outputs": [],
   "source": [
    "pred_proba_rf = y_pred_logreg_proba_rf[:,1]"
   ]
  },
  {
   "cell_type": "code",
   "execution_count": null,
   "id": "f6d2b166",
   "metadata": {},
   "outputs": [],
   "source": [
    "preds_rf = np.where(pred_proba_rf>0.70, 1, 0)"
   ]
  },
  {
   "cell_type": "code",
   "execution_count": null,
   "id": "04ce846a",
   "metadata": {},
   "outputs": [],
   "source": [
    "cm_rf = confusion_matrix(y1_test, preds_rf)\n",
    "ConfusionMatrixDisplay(confusion_matrix=cm_rf).plot()\n",
    "print(\"Model accuracy:\",accuracy_score(y1_test, preds_rf))"
   ]
  },
  {
   "cell_type": "code",
   "execution_count": null,
   "id": "7a991e65",
   "metadata": {},
   "outputs": [],
   "source": [
    "print(classification_report(y1_test, preds_rf))"
   ]
  },
  {
   "cell_type": "markdown",
   "id": "09b2e506",
   "metadata": {},
   "source": [
    "## Modelling with SMOTE data"
   ]
  },
  {
   "cell_type": "code",
   "execution_count": null,
   "id": "d9b06cd7",
   "metadata": {},
   "outputs": [],
   "source": [
    "from imblearn.over_sampling import SMOTE\n",
    "sm = SMOTE(random_state=42)\n",
    "X_res, y_res = sm.fit_resample(X1_train, y1_train)"
   ]
  },
  {
   "cell_type": "code",
   "execution_count": null,
   "id": "ba27f2c9",
   "metadata": {},
   "outputs": [],
   "source": [
    "np.bincount(y_res)"
   ]
  },
  {
   "cell_type": "code",
   "execution_count": null,
   "id": "918b33e3",
   "metadata": {},
   "outputs": [],
   "source": [
    "np.bincount(y1_train)"
   ]
  },
  {
   "cell_type": "code",
   "execution_count": null,
   "id": "50709598",
   "metadata": {},
   "outputs": [],
   "source": [
    "from sklearn.linear_model import LogisticRegression\n",
    "classifier_logreg = LogisticRegression(solver='liblinear', random_state=0)\n",
    "classifier_logreg.fit(X_res, y_res)"
   ]
  },
  {
   "cell_type": "code",
   "execution_count": null,
   "id": "d57f6898",
   "metadata": {
    "scrolled": true
   },
   "outputs": [],
   "source": [
    "y_pred_logreg_proba = classifier_logreg.predict_proba(X_res)\n",
    "from sklearn.metrics import roc_curve\n",
    "fpr, tpr, thresholds = roc_curve(y_res, y_pred_logreg_proba[:,1])\n",
    "plt.figure(figsize=(6,4))\n",
    "plt.plot(fpr,tpr,'-g',linewidth=1)\n",
    "plt.plot([0,1], [0,1], 'k--' )\n",
    "plt.title('ROC curve for Logistic Regression Model')\n",
    "plt.xlabel(\"False Positive Rate\")\n",
    "plt.ylabel('True Positive Rate')\n",
    "plt.show()\n"
   ]
  },
  {
   "cell_type": "code",
   "execution_count": null,
   "id": "e5a5aeca",
   "metadata": {},
   "outputs": [],
   "source": [
    "pd.DataFrame({\"fpr\":fpr, \"tpr\":tpr, \"threshold\":thresholds})"
   ]
  },
  {
   "cell_type": "code",
   "execution_count": null,
   "id": "fbbc4960",
   "metadata": {},
   "outputs": [],
   "source": [
    "thresholds[np.argmax(tpr - fpr)]"
   ]
  },
  {
   "cell_type": "code",
   "execution_count": null,
   "id": "bca2f54c",
   "metadata": {},
   "outputs": [],
   "source": [
    "pred_proba = y_pred_logreg_proba[:,1]"
   ]
  },
  {
   "cell_type": "code",
   "execution_count": null,
   "id": "07c2b18f",
   "metadata": {},
   "outputs": [],
   "source": [
    "preds = np.where(pred_proba>0.18, 1, 0)"
   ]
  },
  {
   "cell_type": "code",
   "execution_count": null,
   "id": "11e07e54",
   "metadata": {},
   "outputs": [],
   "source": [
    "from sklearn.metrics import confusion_matrix,accuracy_score\n",
    "cm = confusion_matrix(y_res, preds)\n",
    "s = sns.heatmap(cm ,annot=True ,fmt='d')\n",
    "s.set(xlabel='Predicted', ylabel='Actual')\n",
    "print(\"Model accuracy:\",accuracy_score(y_res, preds))"
   ]
  },
  {
   "cell_type": "code",
   "execution_count": null,
   "id": "470b05b7",
   "metadata": {},
   "outputs": [],
   "source": [
    "from sklearn.metrics import classification_report\n",
    "print(classification_report(y_res, preds))"
   ]
  },
  {
   "cell_type": "code",
   "execution_count": null,
   "id": "7353bcdb",
   "metadata": {},
   "outputs": [],
   "source": []
  }
 ],
 "metadata": {
  "kernelspec": {
   "display_name": "Python 3 (ipykernel)",
   "language": "python",
   "name": "python3"
  },
  "language_info": {
   "codemirror_mode": {
    "name": "ipython",
    "version": 3
   },
   "file_extension": ".py",
   "mimetype": "text/x-python",
   "name": "python",
   "nbconvert_exporter": "python",
   "pygments_lexer": "ipython3",
   "version": "3.9.12"
  }
 },
 "nbformat": 4,
 "nbformat_minor": 5
}
